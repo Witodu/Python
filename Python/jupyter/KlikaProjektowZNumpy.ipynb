{
 "cells": [
  {
   "cell_type": "markdown",
   "id": "03c4b607",
   "metadata": {},
   "source": [
    "Import potrzebnych modółów <br>\n",
    "1 numpy <br>\n",
    "2 sys <br>"
   ]
  },
  {
   "cell_type": "code",
   "execution_count": null,
   "id": "db1ec7f5",
   "metadata": {},
   "outputs": [],
   "source": [
    "import numpy as np\n",
    "import sys"
   ]
  },
  {
   "cell_type": "code",
   "execution_count": 13,
   "id": "830a11ec",
   "metadata": {},
   "outputs": [
    {
     "name": "stdout",
     "output_type": "stream",
     "text": [
      "a:\n",
      " [1 2 3 4 5]\n",
      "b:\n",
      " [ 6.  7.  8.  9. 10.]\n",
      "c: \n",
      " [[1 2 3]\n",
      " [4 5 6]]\n",
      "\n",
      "\n",
      "\n",
      "Wymiar macierzy a:\n",
      "1\n",
      "Ksztalt macierzy c:\n",
      "(2, 3)\n",
      "Typ danych w macierzy a i b:\n",
      "int16\n",
      "float64\n"
     ]
    }
   ],
   "source": [
    "a = np.array([1, 2, 3, 4, 5], dtype=\"int16\") # Mozemy decydowac o typie danych w macierzy oraz jej wielkosci\n",
    "print (\"a:\\n\", a)\n",
    "b = np.array([6.0, 7.0, 8.0, 9.0, 10.0])\n",
    "print (\"b:\\n\", b)\n",
    "c = np.array([[1, 2, 3], [4, 5, 6]])\n",
    "print (\"c: \\n\", c)\n",
    "\n",
    "print(\"\\n\\n\")\n",
    "# Takie macierze mozna badac pod koatem wymarow , przyklad ponizej:\n",
    "print(\"Wymiar macierzy a:\")\n",
    "print(a.ndim)    # liczba wymiarow ndim = number of dimensions\n",
    "print(\"Ksztalt macierzy c:\")\n",
    "print(c.shape)  # shape = ksztalt macierzy, czyli liczba wierszy i kolumn\n",
    "\n",
    "print(\"Typ danych w macierzy a i b:\")\n",
    "print(a.dtype)  # dtype = typ danych w macierzy\n",
    "print(b.dtype)  # typ danych w macierzy b"
   ]
  },
  {
   "cell_type": "code",
   "execution_count": null,
   "id": "c07304f9",
   "metadata": {},
   "outputs": [],
   "source": []
  }
 ],
 "metadata": {
  "kernelspec": {
   "display_name": "ml",
   "language": "python",
   "name": "python3"
  },
  "language_info": {
   "codemirror_mode": {
    "name": "ipython",
    "version": 3
   },
   "file_extension": ".py",
   "mimetype": "text/x-python",
   "name": "python",
   "nbconvert_exporter": "python",
   "pygments_lexer": "ipython3",
   "version": "3.11.13"
  }
 },
 "nbformat": 4,
 "nbformat_minor": 5
}
