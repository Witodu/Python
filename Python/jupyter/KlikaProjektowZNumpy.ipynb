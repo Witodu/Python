{
 "cells": [
  {
   "cell_type": "markdown",
   "id": "03c4b607",
   "metadata": {},
   "source": [
    "Import potrzebnych modółów <br>\n",
    "1 numpy <br>\n",
    "2 sys <br>\n",
    "Materiał zdobyty z kanału https://www.youtube.com/watch?v=QUT1VHiLmmI&t=986s"
   ]
  },
  {
   "cell_type": "code",
   "execution_count": null,
   "id": "db1ec7f5",
   "metadata": {},
   "outputs": [],
   "source": [
    "import numpy as np\n",
    "import sys"
   ]
  },
  {
   "cell_type": "code",
   "execution_count": null,
   "id": "830a11ec",
   "metadata": {},
   "outputs": [],
   "source": [
    "a = np.array([1, 2, 3, 4, 5], dtype=\"int8\") # Mozemy decydowac o typie danych w macierzy oraz jej wielkosci\n",
    "print (\"a:\\n\", a)\n",
    "b = np.array([6.0, 7.0, 8.0, 9.0, 10.0])\n",
    "print (\"b:\\n\", b)\n",
    "c = np.array([[1, 2, 3], [4, 5, 6]])\n",
    "print (\"c: \\n\", c)\n",
    "\n",
    "print(\"\\n\\n\")\n",
    "# Takie macierze mozna badac pod koatem wymarow , przyklad ponizej:\n",
    "print(\"Wymiar macierzy a:\")\n",
    "print(a.ndim)    # liczba wymiarow ndim = number of dimensions\n",
    "print(\"Ksztalt macierzy c:\")\n",
    "print(c.shape)  # shape = ksztalt macierzy, czyli liczba wierszy i kolumn\n",
    "print()\n",
    "\n",
    "print(\"Typ danych w macierzy a i b:\")\n",
    "print(a.dtype)  # dtype = typ danych w macierzy\n",
    "print(b.dtype)  # typ danych w macierzy b\n",
    "print()\n",
    "\n",
    "print(\"Sprawdzenie rozmiarow zajetej przez 1 element pamieci macierzy a i b:\")\n",
    "print(a.itemsize)  # itemsize = rozmiar pojedynczego elementu macierzy w bajtach\n",
    "print(b.itemsize)  # rozmiar pojedynczego elementu macierzy b w bajtach\n",
    "print(b.itemsize * b.size)  # rozmiar calej macierzy b w bajtach. Da sie to zrobic tez za pomoca b.nbytes\n",
    "print()\n",
    "\n",
    "print(\"Wybieranie elementow macierzy:\")\n",
    "print(\"Pierwszy element macierzy c:\", c[0,0])  # pierwszy element macierzy c\n",
    "print(\"Pierwszy wiersz macierzy c:\", c[0])  # pierwszy wiersz macierzy c\n",
    "print(\"Pierwsza kolumna macierzy c:\", c[:,0])  # pierwsza kolumna macierzy c\n",
    "print(\"Co drugi element macierzy c:\", c[:,::2])  # co drugi wiersz macierzy c\n",
    "\n",
    "print('\\nTworzenie rożnuych macierzy:')\n",
    "d = np.zeros((2,2,2), dtype=\"int8\")  # macierz zerowa o wymiarach 2x2x2\n",
    "print(\"Macierz zerowa d:\\n\", d)\n",
    "print\n",
    "e = np.ones((2,2,2),dtype=\"int8\")  # macierz jedynkowa o wymiarach 2x2x2\n",
    "print(\"Macierz jedynkowa e:\\n\", e)\n",
    "\n",
    "f = np.full((2,2), 7, dtype=\"int8\")  # macierz wypelniona liczba 7 o wymiarach 2x2\n",
    "print(\"Macierz wypelniona liczba 7:\\n\", f)"
   ]
  },
  {
   "cell_type": "markdown",
   "id": "81ca4328",
   "metadata": {},
   "source": [
    "Nowa linijka kodu, z powodu czytelności kodu <div>\n"
   ]
  },
  {
   "cell_type": "code",
   "execution_count": null,
   "id": "c07304f9",
   "metadata": {},
   "outputs": [],
   "source": [
    "z = np.random.random((2,2))  # macierz wypelniona losowymi liczbami z przedzialu [0,1) o wymiarach 2x2\n",
    "print(\"Macierz losowa z:\\n\", z)\n",
    "x = np.random.randint(0, 10, (2,2))  # macierz wypelniona losowymi liczbami calkowitymi z przedzialu [0,10) o wymiarach 2x2\n",
    "print(\"Macierz losowa calkowita x:\\n\", x)\n",
    "c = np.random.randint(0, 10, (2,2,2))  # macierz wypelniona losowymi liczbami calkowitymi z przedzialu [0,10) o wymiarach 2x2x2\n",
    "print(\"Macierz losowa calkowita c:\\n\", c)"
   ]
  }
 ],
 "metadata": {
  "kernelspec": {
   "display_name": "ml",
   "language": "python",
   "name": "python3"
  },
  "language_info": {
   "codemirror_mode": {
    "name": "ipython",
    "version": 3
   },
   "file_extension": ".py",
   "mimetype": "text/x-python",
   "name": "python",
   "nbconvert_exporter": "python",
   "pygments_lexer": "ipython3",
   "version": "3.11.13"
  }
 },
 "nbformat": 4,
 "nbformat_minor": 5
}
