{
 "cells": [
  {
   "cell_type": "markdown",
   "id": "59976f24",
   "metadata": {},
   "source": [
    "ESC - wejscie do trybu dev <br>\n",
    "B - 1 pusta linijka pod bieżącą ramką  &emsp; &emsp;  A - -||- nad <br>\n",
    "DD - usun bieżącą linijke  <br> \n",
    "M - markdown # czyli taki tekst po prostu  &emsp;&emsp;  Y - znowu kod <br>\n",
    "Shif + enter - wykonuje bieżącą linijke <br>\n",
    "X - wytnij  &emsp;&emsp;   V - wklej <br>\n",
    "SHIFT + M - scal komorki <br>\n",
    "CTRL SHIFT + \"-\"  - rozdziel komórki <br>\n",
    "O - output  &emsp;&emsp;   L - daj linijkom numer <br>\n",
    "SHIFT + L - daj wszystkim <br>\n",
    "CTRL + SHIFT + F - Menu opcji <br>"
   ]
  },
  {
   "cell_type": "code",
   "execution_count": null,
   "id": "02abc0ad",
   "metadata": {},
   "outputs": [],
   "source": [
    "import numpy as np\n",
    "import matplotlib.pyplot as plt\n",
    "import pandas as pd\n",
    "import math as math\n",
    "%matplotlib inline \n",
    "# To sprawia ze wykresy sa w notebooku"
   ]
  },
  {
   "cell_type": "code",
   "execution_count": null,
   "id": "89f44161",
   "metadata": {},
   "outputs": [],
   "source": [
    "pokemony_pandas = pd.read_csv('D:\\Projekty vs\\Python\\Pliki do pracy\\course-files\\course-files\\pokemon.csv')\n",
    "cities = ['Warszawa', 'Kraków', 'Wrocław', 'Poznań', 'Gdańsk', 'Łódź', 'Szczecin', 'Bydgoszcz', 'Lublin', 'Katowice']\n",
    "slownik = {'seia3': \"bmw\", \"q7\": \"audi\", \"c63\": \"mercedes\", \"m3\": \"bmw\", \"gti\": \"volkswagen\", \"mustang\": \"ford\", \"camaro\": \"chevrolet\", \"911\": \"porsche\", \"ferrari\": \"ferrari\", \"lamborghini\": \"lamborghini\"}\n",
    "liczby = list(range(1,11))\n",
    "losowe_liczby = np.random.randint(1,10000,size=100)"
   ]
  },
  {
   "cell_type": "code",
   "execution_count": null,
   "id": "69c38ba3",
   "metadata": {},
   "outputs": [],
   "source": [
    "seria_z_slownika = pd.Series(list(slownik.keys()),dtype='string',index=list(slownik.values()))\n",
    "seria = pd.Series(cities,dtype='string')\n",
    "print(seria,\"\\n\")\n",
    "print(seria_z_slownika)\n",
    "print(seria_z_slownika[\"bmw\"])\n",
    "print(seria_z_slownika.is_unique)\n",
    "print(seria_z_slownika.index)\n",
    "print(seria_z_slownika.values)\n",
    "\n"
   ]
  },
  {
   "cell_type": "code",
   "execution_count": null,
   "id": "bbe0a882",
   "metadata": {},
   "outputs": [],
   "source": [
    "seria_liczby = pd.Series(liczby,dtype='int8')\n",
    "print(seria_liczby)\n",
    "print(\"Seria liczby używanie rozmiaru w senise lengh \",seria_liczby.size)\n",
    "print(\"Seria liczby używanie rozmiaru w sensie rozmiar w bajtach \",seria_liczby.nbytes) \n",
    "print(\"Seria liczby rzeczywisty rozmiar \",seria_liczby.memory_usage())\n",
    "print(\"Seria Pokemony używanie calej pamieci \",pokemony_pandas.memory_usage(deep=True).sum())\n",
    "print(\"Seria liczby czy jest ona monotoniczna rosnąca \",seria_liczby.is_monotonic_increasing)\n",
    "print(\"Seria liczby rodzaj danych przechowywanych \",seria_liczby.dtype)\n",
    "print(\"Seria pokemony rodzaj danych przechowywanych \",pokemony_pandas.dtypes)"
   ]
  },
  {
   "cell_type": "code",
   "execution_count": null,
   "id": "6c62e796",
   "metadata": {},
   "outputs": [],
   "source": [
    "print(\"Pokemony ksztalt\",pokemony_pandas.shape)\n",
    "print(\"Seria liczby ksztalt\",seria_liczby.shape)\n",
    "print(\"Pokemaony axist\",pokemony_pandas.axes)\n",
    "print(\"Seria liczby axist\",seria_liczby.axes)\n"
   ]
  },
  {
   "cell_type": "code",
   "execution_count": null,
   "id": "6f328daf",
   "metadata": {},
   "outputs": [],
   "source": [
    "seria_losowe_liczby = pd.Series(losowe_liczby,dtype='int16')\n",
    "print(\"Seria losowe liczby\",seria_losowe_liczby)\n",
    "print(\"Seria losowe liczby suma\",seria_losowe_liczby.sum())\n",
    "print(\"Seria losowe liczby min\",seria_losowe_liczby.min())\n",
    "print(\"Seria losowe liczby max\",seria_losowe_liczby.max())\n",
    "print(\"Seria losowe liczby mean\",seria_losowe_liczby.mean())\n",
    "print(\"Seria losowe liczby rozmiar mozna okreslic za pomoca atrybutu size oraz cout() \",seria_losowe_liczby.size,\" = \",\n",
    "      seria_losowe_liczby.count())\n",
    "print(\"Seria konwersja do listy\")\n",
    "lista_losowe_liczby = seria_losowe_liczby.tolist()\n",
    "print(lista_losowe_liczby)"
   ]
  },
  {
   "cell_type": "code",
   "execution_count": null,
   "id": "c9458026",
   "metadata": {},
   "outputs": [],
   "source": [
    "Waluty  = [\"PLN\",\"EU\",\"USD\",\"GPD\",\"RUB\"]\n",
    "Kraje = [\"Polska\",\"Europa\",\"USA\",\"Wielka Brytania\",\"Rosja\"]\n",
    "seria_waluty_Swiata = pd.Series(index=Waluty, data=Kraje, dtype='string')\n",
    "print(\"Seria waluty swiata \\n\", seria_waluty_Swiata)"
   ]
  },
  {
   "cell_type": "code",
   "execution_count": null,
   "id": "b354bcb4",
   "metadata": {},
   "outputs": [],
   "source": []
  }
 ],
 "metadata": {
  "kernelspec": {
   "display_name": "ml",
   "language": "python",
   "name": "python3"
  },
  "language_info": {
   "codemirror_mode": {
    "name": "ipython",
    "version": 3
   },
   "file_extension": ".py",
   "mimetype": "text/x-python",
   "name": "python",
   "nbconvert_exporter": "python",
   "pygments_lexer": "ipython3",
   "version": "3.11.13"
  }
 },
 "nbformat": 4,
 "nbformat_minor": 5
}
