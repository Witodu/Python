{
 "cells": [
  {
   "cell_type": "markdown",
   "id": "59976f24",
   "metadata": {},
   "source": [
    "ESC - wejscie do trybu dev <br>\n",
    "B - 1 pusta linijka pod bieżącą ramką  &emsp; &emsp;  A - -||- nad <br>\n",
    "DD - usun bieżącą linijke  <br> \n",
    "M - markdown # czyli taki tekst po prostu  &emsp;&emsp;  Y - znowu kod <br>\n",
    "Shif + enter - wykonuje bieżącą linijke <br>\n",
    "X - wytnij  &emsp;&emsp;   V - wklej <br>\n",
    "SHIFT + M - scal komorki <br>\n",
    "CTRL SHIFT + \"-\"  - rozdziel komórki <br>\n",
    "O - output  &emsp;&emsp;   L - daj linijkom numer <br>\n",
    "SHIFT + L - daj wszystkim <br>\n",
    "CTRL + SHIFT + F - Menu opcji <br>"
   ]
  },
  {
   "cell_type": "code",
   "execution_count": 1,
   "id": "02abc0ad",
   "metadata": {},
   "outputs": [],
   "source": [
    "import numpy as np\n",
    "import matplotlib.pyplot as plt\n",
    "import pandas as pd\n",
    "import math as math\n",
    "%matplotlib inline \n",
    "# To sprawia ze wykresy sa w notebooku"
   ]
  },
  {
   "cell_type": "code",
   "execution_count": 55,
   "id": "89f44161",
   "metadata": {},
   "outputs": [],
   "source": [
    "pokemony_pandas = pd.read_csv('D:\\Projekty vs\\Python\\Pliki do pracy\\course-files\\course-files\\pokemon.csv')\n",
    "cities = ['Warszawa', 'Kraków', 'Wrocław', 'Poznań', 'Gdańsk', 'Łódź', 'Szczecin', 'Bydgoszcz', 'Lublin', 'Katowice']\n",
    "slownik = {'seia3': \"bmw\", \"q7\": \"audi\", \"c63\": \"mercedes\", \"m3\": \"bmw\", \"gti\": \"volkswagen\", \"mustang\": \"ford\", \"camaro\": \"chevrolet\", \"911\": \"porsche\", \"ferrari\": \"ferrari\", \"lamborghini\": \"lamborghini\"}\n",
    "liczby = list(range(1,101))\n",
    "losowe_liczby = np.random.randint(1,10000,size=100)\n",
    "Waluty  = [\"PLN\",\"EU\",\"USD\",\"GPD\",\"RUB\"]\n",
    "Kraje = [\"Polska\",\"Europa\",\"USA\",\"Wielka Brytania\",\"Rosja\"]\n",
    "indeksy = [\"a\",\"b\",\"c\",\"d\",\"e\",\"x\",\"x\"]\n",
    "wartosci = [\"Australia\",\"Brazylia\",\"Chiny\",\"Dania\",\"Egipt\",\"xoxo\",\"no to tyle\"]\n",
    "\n",
    "pokemony_pandas_seria = pd.read_csv('D:\\Projekty vs\\Python\\Pliki do pracy\\course-files\\course-files\\pokemon.csv',usecols=[\"Name\"]).squeeze()\n",
    "seria_z_slownika = pd.Series(list(slownik.keys()),dtype='string',index=list(slownik.values()))\n",
    "seria = pd.Series(cities,dtype='string')\n",
    "seria_liczby = pd.Series(liczby,dtype='int8')\n",
    "seria_losowe_liczby = pd.Series(losowe_liczby,dtype='int16')\n",
    "seria_waluty_Swiata = pd.Series(index=Waluty, data=Kraje, dtype='string')\n",
    "seria_alfabet = pd.Series(index=indeksy, data=wartosci, dtype='string')"
   ]
  },
  {
   "cell_type": "code",
   "execution_count": null,
   "id": "69c38ba3",
   "metadata": {},
   "outputs": [],
   "source": [
    "print(seria,\"\\n\")\n",
    "print(seria_z_slownika)\n",
    "print(seria_z_slownika[\"bmw\"])\n",
    "print(seria_z_slownika.is_unique)\n",
    "print(seria_z_slownika.index)\n",
    "print(seria_z_slownika.values)\n",
    "\n"
   ]
  },
  {
   "cell_type": "code",
   "execution_count": null,
   "id": "bbe0a882",
   "metadata": {},
   "outputs": [
    {
     "name": "stdout",
     "output_type": "stream",
     "text": [
      "0       1\n",
      "1       2\n",
      "2       3\n",
      "3       4\n",
      "4       5\n",
      "     ... \n",
      "95     96\n",
      "96     97\n",
      "97     98\n",
      "98     99\n",
      "99    100\n",
      "Length: 100, dtype: int8\n",
      "Seria liczby używanie rozmiaru w senise lengh  100\n",
      "Seria liczby używanie rozmiaru w sensie rozmiar w bajtach  100\n",
      "Seria liczby rzeczywisty rozmiar  232\n",
      "Seria Pokemony używanie calej pamieci  199393\n",
      "Seria liczby czy jest ona monotoniczna rosnąca  True\n",
      "Seria liczby rodzaj danych przechowywanych  int8\n",
      "Seria pokemony rodzaj danych przechowywanych  #              int64\n",
      "Name          object\n",
      "Type 1        object\n",
      "Type 2        object\n",
      "Total          int64\n",
      "HP             int64\n",
      "Attack         int64\n",
      "Defense        int64\n",
      "Sp. Atk        int64\n",
      "Sp. Def        int64\n",
      "Speed          int64\n",
      "Generation     int64\n",
      "Legendary       bool\n",
      "dtype: object\n"
     ]
    }
   ],
   "source": [
    "print(seria_liczby)\n",
    "print(\"Seria liczby używanie rozmiaru w senise lengh \",seria_liczby.size)\n",
    "print(\"Seria liczby używanie rozmiaru w sensie rozmiar w bajtach \",seria_liczby.nbytes) \n",
    "print(\"Seria liczby rzeczywisty rozmiar \",seria_liczby.memory_usage())\n",
    "print(\"Seria Pokemony używanie calej pamieci \",pokemony_pandas.memory_usage(deep=True).sum())\n",
    "print(\"Seria liczby czy jest ona monotoniczna rosnąca \",seria_liczby.is_monotonic_increasing)\n",
    "print(\"Seria liczby rodzaj danych przechowywanych \",seria_liczby.dtype)\n",
    "print(\"Seria pokemony rodzaj danych przechowywanych \",pokemony_pandas.dtypes)"
   ]
  },
  {
   "cell_type": "code",
   "execution_count": null,
   "id": "6c62e796",
   "metadata": {},
   "outputs": [],
   "source": [
    "print(\"Pokemony ksztalt\",pokemony_pandas.shape)\n",
    "print(\"Seria liczby ksztalt\",seria_liczby.shape)\n",
    "print(\"Pokemaony axist\",pokemony_pandas.axes)\n",
    "print(\"Seria liczby axist\",seria_liczby.axes)\n"
   ]
  },
  {
   "cell_type": "code",
   "execution_count": null,
   "id": "6f328daf",
   "metadata": {},
   "outputs": [
    {
     "name": "stdout",
     "output_type": "stream",
     "text": [
      "Seria losowe liczby 0     2116\n",
      "1     4239\n",
      "2     3229\n",
      "3     3275\n",
      "4     9909\n",
      "      ... \n",
      "95     156\n",
      "96    2686\n",
      "97    3811\n",
      "98    2184\n",
      "99    8480\n",
      "Length: 100, dtype: int16\n",
      "Seria losowe liczby suma 478619\n",
      "Seria losowe liczby min 51\n",
      "Seria losowe liczby max 9909\n",
      "Seria losowe liczby mean 4786.19\n",
      "Seria losowe liczby rozmiar mozna okreslic za pomoca atrybutu size oraz cout()  100  =  100\n",
      "Seria konwersja do listy\n",
      "[2116, 4239, 3229, 3275, 9909, 2923, 3338, 5788, 423, 7069, 1005, 7710, 8453, 1645, 6779, 4559, 7337, 3413, 6551, 2179, 4929, 6000, 4162, 6568, 4299, 6246, 4076, 1320, 1948, 3965, 1949, 3453, 7315, 3859, 9066, 356, 2436, 1062, 9276, 3666, 2237, 8154, 2385, 9471, 5847, 655, 7112, 6913, 3682, 3481, 8786, 5531, 8998, 6835, 1148, 7010, 8763, 519, 51, 8911, 3144, 5318, 6699, 4908, 4958, 847, 9600, 1579, 2769, 3019, 2736, 2552, 5326, 6417, 174, 3317, 6830, 5506, 5996, 9468, 4971, 7799, 7966, 8857, 1614, 6812, 5774, 4291, 5320, 3179, 3189, 6800, 4561, 9739, 4887, 156, 2686, 3811, 2184, 8480]\n"
     ]
    }
   ],
   "source": [
    "print(\"Seria losowe liczby\",seria_losowe_liczby)\n",
    "print(\"Seria losowe liczby suma\",seria_losowe_liczby.sum())\n",
    "print(\"Seria losowe liczby min\",seria_losowe_liczby.min())\n",
    "print(\"Seria losowe liczby max\",seria_losowe_liczby.max())\n",
    "print(\"Seria losowe liczby mean\",seria_losowe_liczby.mean())\n",
    "print(\"Seria losowe liczby rozmiar mozna okreslic za pomoca atrybutu size oraz cout() \",seria_losowe_liczby.size,\" = \",\n",
    "      seria_losowe_liczby.count())\n",
    "print(\"Seria konwersja do listy\")\n",
    "lista_losowe_liczby = seria_losowe_liczby.tolist()\n",
    "print(lista_losowe_liczby)"
   ]
  },
  {
   "cell_type": "code",
   "execution_count": null,
   "id": "c9458026",
   "metadata": {},
   "outputs": [],
   "source": [
    "print(\"Seria waluty swiata \\n\", seria_waluty_Swiata)"
   ]
  },
  {
   "cell_type": "code",
   "execution_count": 25,
   "id": "b354bcb4",
   "metadata": {},
   "outputs": [
    {
     "name": "stdout",
     "output_type": "stream",
     "text": [
      "Pokazanie wynikow seri liczby tylko wiekszych od 90 dowma sposobami \n",
      " 0       NaN\n",
      "1       NaN\n",
      "2       NaN\n",
      "3       NaN\n",
      "4       NaN\n",
      "      ...  \n",
      "95     96.0\n",
      "96     97.0\n",
      "97     98.0\n",
      "98     99.0\n",
      "99    100.0\n",
      "Length: 100, dtype: float64\n",
      "\n",
      " 90     91\n",
      "91     92\n",
      "92     93\n",
      "93     94\n",
      "94     95\n",
      "95     96\n",
      "96     97\n",
      "97     98\n",
      "98     99\n",
      "99    100\n",
      "dtype: int8 \n",
      "Warto zworcic uwage na to ,iż użycie atrybutu where zwaraca wszystko ,\n",
      " nawet nie zgodne wyniki jako NaN a zwykla lista tylko te ,które nam pasują\n",
      "Seria liczby bez NaN \n",
      " 90     91.0\n",
      "91     92.0\n",
      "92     93.0\n",
      "93     94.0\n",
      "94     95.0\n",
      "95     96.0\n",
      "96     97.0\n",
      "97     98.0\n",
      "98     99.0\n",
      "99    100.0\n",
      "dtype: float64\n",
      "\n",
      "Możemy też wyciągnąć wartości po indeksie \n",
      " 0    1\n",
      "1    2\n",
      "2    3\n",
      "3    4\n",
      "4    5\n",
      "5    6\n",
      "dtype: int8\n",
      "Filtorwanie wartosci mniejszych od 10 i wiekszych od 15\n",
      "Series([], dtype: float64)\n"
     ]
    }
   ],
   "source": [
    "print(\"Pokazanie wynikow seri liczby tylko wiekszych od 90 dowma sposobami \\n\",seria_liczby.where(seria_liczby > 90 )) # filtruje serie i zwraca tylko te wartosci ktore sa wieksze niz 90\n",
    "print(\"\\n\",seria_liczby[seria_liczby > 90],\"\\nWarto zworcic uwage na to ,iż użycie atrybutu where zwaraca wszystko ,\\n nawet nie zgodne wyniki jako NaN a zwykla lista tylko te ,które nam pasują\") # filtruje serie i zwraca tylko te wartosci ktore sa wieksze niz 90\n",
    "# Jeśli chcemy pozbyć się NaN to możemy użyć metody dropna()\n",
    "print(\"Seria liczby bez NaN \\n\",seria_liczby.where(seria_liczby > 90 ).dropna()) # filtruje serie i zwraca tylko te wartosci ktore sa wieksze niz 90 i usuwa NaN\n",
    "print()\n",
    "print(\"Możemy też wyciągnąć wartości po indeksie \\n\", seria_liczby.filter(items=[0, 1, 2, 3, 4, 5])) # filtruje serie i zwraca tylko te wartosci ktore sa na indeksach 0,1,2,3,4,5\n",
    "\n",
    "print(\"Filtorwanie wartosci mniejszych od 10 i wiekszych od 15\")\n",
    "mniejsze_od_10 = seria_liczby < 10\n",
    "wieksze_od_15 = seria_liczby > 15\n",
    "print(seria_liczby.where(mniejsze_od_10 & wieksze_od_15).dropna()) # filtruje serie i zwraca tylko te wartosci ktore sa mniejsze niz 10 lub wieksze niz 15oo"
   ]
  },
  {
   "cell_type": "code",
   "execution_count": null,
   "id": "43f58ce9",
   "metadata": {},
   "outputs": [
    {
     "name": "stdout",
     "output_type": "stream",
     "text": [
      "Pokemony jako seria \n",
      " 0                Bulbasaur\n",
      "1                  Ivysaur\n",
      "2                 Venusaur\n",
      "3    VenusaurMega Venusaur\n",
      "4               Charmander\n",
      "Name: Name, dtype: object\n",
      "Pokemony seria ogonki \n",
      " 795                Diancie\n",
      "796    DiancieMega Diancie\n",
      "797    HoopaHoopa Confined\n",
      "798     HoopaHoopa Unbound\n",
      "799              Volcanion\n",
      "Name: Name, dtype: object\n",
      "Posortowanie serii pokemony \n",
      " 510                  Abomasnow\n",
      "511    AbomasnowMega Abomasnow\n",
      "68                        Abra\n",
      "392                      Absol\n",
      "393            AbsolMega Absol\n",
      "Name: Name, dtype: object\n",
      "Sprawdzenie czy w serii pokemony znajduje sie Pikachu \n",
      " 30    Pikachu\n",
      "Name: Name, dtype: object\n"
     ]
    }
   ],
   "source": [
    "print(\"Pokemony jako seria \\n\", pokemony_pandas_seria.head(5))\n",
    "print(\"Pokemony seria ogonki \\n\", pokemony_pandas_seria.tail(5)) # pokazuje ostatnie 10 wierszy serii\n",
    "print(\"Posortowanie serii pokemony \\n\", pokemony_pandas_seria.sort_values().head(5)) # sortuje serie\n",
    "print(\"Sprawdzenie czy w serii pokemony znajduje sie Pikachu \\n\",pokemony_pandas_seria[pokemony_pandas_seria.isin(['Pikachu'])]) # sprawdza czy w serii znajduje sie Pikachu"
   ]
  },
  {
   "cell_type": "code",
   "execution_count": 63,
   "id": "37d49b35",
   "metadata": {},
   "outputs": [
    {
     "name": "stdout",
     "output_type": "stream",
     "text": [
      "Australia\n",
      "Australia\n",
      "Nie ma takiego klucza\n",
      "x          xoxo\n",
      "x    no to tyle\n",
      "dtype: string\n",
      "Brazylia\n",
      "Test  x          xoxo\n",
      "x    no to tyle\n",
      "dtype: string\n",
      "Test1  Brazylia\n",
      "x          xoxo\n",
      "x    no to tyle\n",
      "dtype: string\n"
     ]
    }
   ],
   "source": [
    "# UWAGA! w teori at i iat powinny byc tylko dla 1 elementu , a loc i iloc dla wielu elementów, ale w praktyce at i iat działają też dla wielu elementów\n",
    "# To może jest błąd\n",
    "\n",
    "print(seria_alfabet[\"a\"])\n",
    "#print(seria_alfabet[1]) Błąd ponieważ seria_alfabet nie ma indeksu 1 tylko a,b,c,d,e\n",
    "print(seria_alfabet.get(\"a\")) # zwraca wartosc dla klucza a\n",
    "print(seria_alfabet.get(\"f\", \"Nie ma takiego klucza\")) # zwraca wartosc dla klucza f lub komunikat o braku klucza , po prostu nie wyrzuca błędu\n",
    "print(seria_alfabet.get(\"x\"))\n",
    "\n",
    "print(seria_alfabet.at[\"b\"])\n",
    "print(\"Test \",seria_alfabet.at[\"x\"]) # zwraca wartosc dla klucza x\n",
    "#print(seria_alfabet.at[1])  Błąd ponieważ seria_alfabet nie ma indeksu 1 tylko a,b,c,d,e\n",
    "#print(seria_alfabet.at[\"z\"])  Błąd ponieważ seria_alfabet nie ma indeksu z\n",
    "print(\"Test1 \",seria_alfabet.iat[1]) # zwraca wartosc dla indeksu 1 Ogolnie at i iat są szybsze niż get, ale nie sprawdzają czy klucz istnieje, więc mogą wyrzucić błąd a po zatym \n",
    "#iat wyrzuca błąd jeśli indeks nie istnieje ablo jest ich kilka\n",
    "\n",
    "print(seria_alfabet.loc[\"x\"])\n",
    "\n"
   ]
  },
  {
   "cell_type": "code",
   "execution_count": null,
   "id": "2ada2601",
   "metadata": {},
   "outputs": [],
   "source": []
  }
 ],
 "metadata": {
  "kernelspec": {
   "display_name": "ml",
   "language": "python",
   "name": "python3"
  },
  "language_info": {
   "codemirror_mode": {
    "name": "ipython",
    "version": 3
   },
   "file_extension": ".py",
   "mimetype": "text/x-python",
   "name": "python",
   "nbconvert_exporter": "python",
   "pygments_lexer": "ipython3",
   "version": "3.11.13"
  }
 },
 "nbformat": 4,
 "nbformat_minor": 5
}
