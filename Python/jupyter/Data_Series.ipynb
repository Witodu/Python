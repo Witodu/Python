{
 "cells": [
  {
   "cell_type": "markdown",
   "id": "59976f24",
   "metadata": {},
   "source": [
    "ESC - wejscie do trybu dev <br>\n",
    "B - 1 pusta linijka pod bieżącą ramką  &emsp; &emsp;  A - -||- nad <br>\n",
    "DD - usun bieżącą linijke  <br> \n",
    "M - markdown # czyli taki tekst po prostu  &emsp;&emsp;  Y - znowu kod <br>\n",
    "Shif + enter - wykonuje bieżącą linijke <br>\n",
    "X - wytnij  &emsp;&emsp;   V - wklej <br>\n",
    "SHIFT + M - scal komorki <br>\n",
    "CTRL SHIFT + \"-\"  - rozdziel komórki <br>\n",
    "O - output  &emsp;&emsp;   L - daj linijkom numer <br>\n",
    "SHIFT + L - daj wszystkim <br>\n",
    "CTRL + SHIFT + F - Menu opcji <br>"
   ]
  },
  {
   "cell_type": "code",
   "execution_count": null,
   "id": "02abc0ad",
   "metadata": {},
   "outputs": [],
   "source": [
    "import numpy as np\n",
    "import matplotlib.pyplot as plt\n",
    "import pandas as pd\n",
    "import math as math\n",
    "%matplotlib inline \n",
    "# To sprawia ze wykresy sa w notebooku"
   ]
  },
  {
   "cell_type": "code",
   "execution_count": null,
   "id": "89f44161",
   "metadata": {},
   "outputs": [],
   "source": [
    "pokemony_pandas = pd.read_csv('D:\\Projekty vs\\Python\\Pliki do pracy\\course-files\\course-files\\pokemon.csv')\n",
    "cities = ['Warszawa', 'Kraków', 'Wrocław', 'Poznań', 'Gdańsk', 'Łódź', 'Szczecin', 'Bydgoszcz', 'Lublin', 'Katowice']\n",
    "slownik = {'seia3': \"bmw\", \"q7\": \"audi\", \"c63\": \"mercedes\", \"m3\": \"bmw\", \"gti\": \"volkswagen\", \"mustang\": \"ford\", \"camaro\": \"chevrolet\", \"911\": \"porsche\", \"ferrari\": \"ferrari\", \"lamborghini\": \"lamborghini\"}\n",
    "liczby = list(range(1,101))\n",
    "losowe_liczby = np.random.randint(1,10000,size=100)\n",
    "Waluty  = [\"PLN\",\"EU\",\"USD\",\"GPD\",\"RUB\"]\n",
    "Kraje = [\"Polska\",\"Europa\",\"USA\",\"Wielka Brytania\",\"Rosja\"]\n",
    "indeksy = [\"a\",\"b\",\"c\",\"d\",\"e\",\"x\",\"x\"]\n",
    "wartosci = [\"Australia\",\"Brazylia\",\"Chiny\",\"Dania\",\"Egipt\",\"xoxo\",\"no to tyle\"]\n",
    "alfabet = ['a', 'b', 'c', 'd', 'e', 'f', 'g', 'h', 'i', 'j', 'k', 'l', 'm', 'n', 'o', 'p', 'q', 'r', 's', 't', 'u', 'v', 'w', 'x', 'y', 'z']\n",
    "oceny = [5, 4, 3, 2, 1, 5, 4, 3, 2, 1]\n",
    "uczniowie = ['Jan', 'Anna', 'Piotr', 'Katarzyna', 'Michał', 'Ewa', 'Tomasz', 'Magdalena', 'Krzysztof', 'Agnieszka']\n",
    "\n",
    "uczniowie_pandas = pd.Series(index=uczniowie, data=oceny, dtype='int8')\n",
    "oceny_liczbowe = pd.Series(data=['c','b','a','a+','a++'], index=[1,2,3,4,5])\n",
    "\n",
    "seria_ciag_znakow = pd.Series(alfabet, dtype='string')\n",
    "pokemony_pandas_seria = pd.read_csv('D:\\Projekty vs\\Python\\Pliki do pracy\\course-files\\course-files\\pokemon.csv',usecols=[\"Name\",\"Type 2\"],index_col=\"Name\").squeeze()\n",
    "seria_z_slownika = pd.Series(list(slownik.keys()),dtype='string',index=list(slownik.values()))\n",
    "seria = pd.Series(cities,dtype='string')\n",
    "seria_liczby = pd.Series(liczby,dtype='int8')\n",
    "seria_losowe_liczby = pd.Series(losowe_liczby,dtype='int16')\n",
    "seria_waluty_Swiata = pd.Series(index=Waluty, data=Kraje, dtype='string')\n",
    "seria_alfabet = pd.Series(index=indeksy, data=wartosci, dtype='string')"
   ]
  },
  {
   "cell_type": "code",
   "execution_count": null,
   "id": "69c38ba3",
   "metadata": {},
   "outputs": [],
   "source": [
    "print(seria,\"\\n\")\n",
    "print(seria_z_slownika)\n",
    "print(seria_z_slownika[\"bmw\"])\n",
    "print(seria_z_slownika.is_unique)\n",
    "print(seria_z_slownika.index)\n",
    "print(seria_z_slownika.values)\n",
    "\n"
   ]
  },
  {
   "cell_type": "code",
   "execution_count": null,
   "id": "bbe0a882",
   "metadata": {},
   "outputs": [],
   "source": [
    "print(seria_liczby)\n",
    "print(\"Seria liczby używanie rozmiaru w senise lengh \",seria_liczby.size)\n",
    "print(\"Seria liczby używanie rozmiaru w sensie rozmiar w bajtach \",seria_liczby.nbytes) \n",
    "print(\"Seria liczby rzeczywisty rozmiar \",seria_liczby.memory_usage())\n",
    "print(\"Seria Pokemony używanie calej pamieci \",pokemony_pandas.memory_usage(deep=True).sum())\n",
    "print(\"Seria liczby czy jest ona monotoniczna rosnąca \",seria_liczby.is_monotonic_increasing)\n",
    "print(\"Seria liczby rodzaj danych przechowywanych \",seria_liczby.dtype)\n",
    "print(\"Seria pokemony rodzaj danych przechowywanych \",pokemony_pandas.dtypes)"
   ]
  },
  {
   "cell_type": "code",
   "execution_count": null,
   "id": "6c62e796",
   "metadata": {},
   "outputs": [],
   "source": [
    "print(\"Pokemony ksztalt\",pokemony_pandas.shape)\n",
    "print(\"Seria liczby ksztalt\",seria_liczby.shape)\n",
    "print(\"Pokemaony axist\",pokemony_pandas.axes)\n",
    "print(\"Seria liczby axist\",seria_liczby.axes)\n"
   ]
  },
  {
   "cell_type": "code",
   "execution_count": null,
   "id": "6f328daf",
   "metadata": {},
   "outputs": [],
   "source": [
    "print(\"Seria losowe liczby\",seria_losowe_liczby)\n",
    "print(\"Seria losowe liczby suma\",seria_losowe_liczby.sum())\n",
    "print(\"Seria losowe liczby min\",seria_losowe_liczby.min())\n",
    "print(\"Seria losowe liczby max\",seria_losowe_liczby.max())\n",
    "print(\"Seria losowe liczby mean\",seria_losowe_liczby.mean())\n",
    "print(\"Seria losowe liczby rozmiar mozna okreslic za pomoca atrybutu size oraz cout() \",seria_losowe_liczby.size,\" = \",\n",
    "      seria_losowe_liczby.count())\n",
    "print(\"Seria konwersja do listy\")\n",
    "lista_losowe_liczby = seria_losowe_liczby.tolist()\n",
    "print(lista_losowe_liczby)"
   ]
  },
  {
   "cell_type": "code",
   "execution_count": null,
   "id": "c9458026",
   "metadata": {},
   "outputs": [],
   "source": [
    "print(\"Seria waluty swiata \\n\", seria_waluty_Swiata)"
   ]
  },
  {
   "cell_type": "code",
   "execution_count": null,
   "id": "b354bcb4",
   "metadata": {},
   "outputs": [],
   "source": [
    "print(\"Pokazanie wynikow seri liczby tylko wiekszych od 90 dowma sposobami \\n\",seria_liczby.where(seria_liczby > 90 )) # filtruje serie i zwraca tylko te wartosci ktore sa wieksze niz 90\n",
    "print(\"\\n\",seria_liczby[seria_liczby > 90],\"\\nWarto zworcic uwage na to ,iż użycie atrybutu where zwaraca wszystko ,\\n nawet nie zgodne wyniki jako NaN a zwykla lista tylko te ,które nam pasują\") # filtruje serie i zwraca tylko te wartosci ktore sa wieksze niz 90\n",
    "# Jeśli chcemy pozbyć się NaN to możemy użyć metody dropna()\n",
    "print(\"Seria liczby bez NaN \\n\",seria_liczby.where(seria_liczby > 90 ).dropna()) # filtruje serie i zwraca tylko te wartosci ktore sa wieksze niz 90 i usuwa NaN\n",
    "print()\n",
    "print(\"Możemy też wyciągnąć wartości po indeksie \\n\", seria_liczby.filter(items=[0, 1, 2, 3, 4, 5])) # filtruje serie i zwraca tylko te wartosci ktore sa na indeksach 0,1,2,3,4,5\n",
    "\n",
    "print(\"Filtorwanie wartosci mniejszych od 10 i wiekszych od 15\")\n",
    "mniejsze_od_10 = seria_liczby < 10\n",
    "wieksze_od_15 = seria_liczby > 15\n",
    "print(seria_liczby.where(mniejsze_od_10 & wieksze_od_15).dropna()) # filtruje serie i zwraca tylko te wartosci ktore sa mniejsze niz 10 lub wieksze niz 15oo"
   ]
  },
  {
   "cell_type": "code",
   "execution_count": null,
   "id": "43f58ce9",
   "metadata": {},
   "outputs": [],
   "source": [
    "print(\"Pokemony jako seria \\n\", pokemony_pandas_seria.head(5))\n",
    "print(\"Pokemony seria ogonki \\n\", pokemony_pandas_seria.tail(5)) # pokazuje ostatnie 10 wierszy serii\n",
    "print(\"Posortowanie serii pokemony \\n\", pokemony_pandas_seria.sort_values().head(5)) # sortuje serie\n",
    "print(\"Sprawdzenie czy w serii pokemony znajduje sie Pikachu \\n\",pokemony_pandas_seria[pokemony_pandas_seria.isin(['Pikachu'])]) # sprawdza czy w serii znajduje sie Pikachu\n",
    "print(pokemony_pandas_seria.value_counts().head())\n"
   ]
  },
  {
   "cell_type": "code",
   "execution_count": null,
   "id": "37d49b35",
   "metadata": {},
   "outputs": [],
   "source": [
    "# UWAGA! w teori at i iat powinny byc tylko dla 1 elementu , a loc i iloc dla wielu elementów, ale w praktyce at i iat działają też dla wielu elementów\n",
    "# To może jest błąd\n",
    "\n",
    "print(seria_alfabet[\"a\"])\n",
    "#print(seria_alfabet[1]) Błąd ponieważ seria_alfabet nie ma indeksu 1 tylko a,b,c,d,e\n",
    "print(seria_alfabet.get(\"a\")) # zwraca wartosc dla klucza a\n",
    "print(seria_alfabet.get(\"f\", \"Nie ma takiego klucza\")) # zwraca wartosc dla klucza f lub komunikat o braku klucza , po prostu nie wyrzuca błędu\n",
    "print(seria_alfabet.get(\"x\"))\n",
    "\n",
    "print(seria_alfabet.at[\"b\"])\n",
    "print(\"Test \",seria_alfabet.at[\"x\"]) # zwraca wartosc dla klucza x\n",
    "#print(seria_alfabet.at[1])  Błąd ponieważ seria_alfabet nie ma indeksu 1 tylko a,b,c,d,e\n",
    "#print(seria_alfabet.at[\"z\"])  Błąd ponieważ seria_alfabet nie ma indeksu z\n",
    "print(\"Test1 \",seria_alfabet.iat[1]) # zwraca wartosc dla indeksu 1 Ogolnie at i iat są szybsze niż get, ale nie sprawdzają czy klucz istnieje, więc mogą wyrzucić błąd a po zatym \n",
    "#iat wyrzuca błąd jeśli indeks nie istnieje ablo jest ich kilka\n",
    "\n",
    "print(seria_alfabet.loc[\"x\"])\n",
    "\n",
    "\n"
   ]
  },
  {
   "cell_type": "code",
   "execution_count": null,
   "id": "2ada2601",
   "metadata": {},
   "outputs": [],
   "source": [
    "mala_seria = pd.Series([\"a\",'b','c']) # zwraca pierwsze 5 elementów serii\n",
    "seria_ciag_znakow\n",
    "print(\"Seria ciag znakow \\n\", seria_ciag_znakow)\n",
    "print(\"Seria ze zmienionymi indeksami a bardziej dodany 1 dodoatkowy \\n\",seria_ciag_znakow.reindex(np.arange(0, 28))) # zmienia indeksy na 1,2,3,...,27\n",
    "# dodanie dodkowych indeksow powoduje powstanie wartosci NaN\n",
    "print(\"Wyrazy wspolne w serii ciagow znakow i malej serii \\n\", np.intersect1d(seria_ciag_znakow,mala_seria)) # zwraca wartosci wspolne w obu seriach\n"
   ]
  },
  {
   "cell_type": "code",
   "execution_count": null,
   "id": "c38013a3",
   "metadata": {},
   "outputs": [],
   "source": [
    "\n",
    "print(\"Seria uczniowie \\n\", uczniowie_pandas)\n",
    "print(\"Seria oceny \\n\", oceny_liczbowe)\n",
    "print(\"Seria po podstawieniu indeksow na oceny \\n\", uczniowie_pandas.map(oceny_liczbowe)) # podstawia indeksy z serii oceny_liczbowe do serii uczniowie_pandas\n",
    "# Zasada dzialania map jest taka, że bierze wartość z lewej strony i podstawia ją do prawej strony\n",
    "#Metoda map pozwala połączyć dane zapisane w dwóch seriach A i B w taki sposób że wynikiem jest seria, której indeks pochodzi z serii A, a wartości z serii B.\n"
   ]
  }
 ],
 "metadata": {
  "kernelspec": {
   "display_name": "ml",
   "language": "python",
   "name": "python3"
  },
  "language_info": {
   "codemirror_mode": {
    "name": "ipython",
    "version": 3
   },
   "file_extension": ".py",
   "mimetype": "text/x-python",
   "name": "python",
   "nbconvert_exporter": "python",
   "pygments_lexer": "ipython3",
   "version": "3.11.13"
  }
 },
 "nbformat": 4,
 "nbformat_minor": 5
}
