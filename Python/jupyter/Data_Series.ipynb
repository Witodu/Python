{
 "cells": [
  {
   "cell_type": "markdown",
   "id": "59976f24",
   "metadata": {},
   "source": [
    "ESC - wejscie do trybu dev <br>\n",
    "B - 1 pusta linijka pod bieżącą ramką  &emsp; &emsp;  A - -||- nad <br>\n",
    "DD - usun bieżącą linijke  <br> \n",
    "M - markdown # czyli taki tekst po prostu  &emsp;&emsp;  Y - znowu kod <br>\n",
    "Shif + enter - wykonuje bieżącą linijke <br>\n",
    "X - wytnij  &emsp;&emsp;   V - wklej <br>\n",
    "SHIFT + M - scal komorki <br>\n",
    "CTRL SHIFT + \"-\"  - rozdziel komórki <br>\n",
    "O - output  &emsp;&emsp;   L - daj linijkom numer <br>\n",
    "SHIFT + L - daj wszystkim <br>\n",
    "CTRL + SHIFT + F - Menu opcji <br>"
   ]
  },
  {
   "cell_type": "code",
   "execution_count": 1,
   "id": "02abc0ad",
   "metadata": {},
   "outputs": [],
   "source": [
    "import numpy as np\n",
    "import matplotlib.pyplot as plt\n",
    "import pandas as pd\n",
    "import math as math\n",
    "%matplotlib inline \n",
    "# To sprawia ze wykresy sa w notebooku"
   ]
  },
  {
   "cell_type": "code",
   "execution_count": 2,
   "id": "89f44161",
   "metadata": {},
   "outputs": [],
   "source": [
    "pokemony_pandas = pd.read_csv('D:\\Projekty vs\\Python\\Pliki do pracy\\course-files\\course-files\\pokemon.csv')\n",
    "cities = ['Warszawa', 'Kraków', 'Wrocław', 'Poznań', 'Gdańsk', 'Łódź', 'Szczecin', 'Bydgoszcz', 'Lublin', 'Katowice']\n",
    "slownik = {'seia3': \"bmw\", \"q7\": \"audi\", \"c63\": \"mercedes\", \"m3\": \"bmw\", \"gti\": \"volkswagen\", \"mustang\": \"ford\", \"camaro\": \"chevrolet\", \"911\": \"porsche\", \"ferrari\": \"ferrari\", \"lamborghini\": \"lamborghini\"}\n",
    "liczby = list(range(1,101))\n",
    "losowe_liczby = np.random.randint(1,10000,size=100)\n",
    "Waluty  = [\"PLN\",\"EU\",\"USD\",\"GPD\",\"RUB\"]\n",
    "Kraje = [\"Polska\",\"Europa\",\"USA\",\"Wielka Brytania\",\"Rosja\"]\n",
    "indeksy = [\"a\",\"b\",\"c\",\"d\",\"e\",\"x\",\"x\"]\n",
    "wartosci = [\"Australia\",\"Brazylia\",\"Chiny\",\"Dania\",\"Egipt\",\"xoxo\",\"no to tyle\"]\n",
    "alfabet = ['a', 'b', 'c', 'd', 'e', 'f', 'g', 'h', 'i', 'j', 'k', 'l', 'm', 'n', 'o', 'p', 'q', 'r', 's', 't', 'u', 'v', 'w', 'x', 'y', 'z']\n",
    "oceny = [5, 4, 3, 2, 1, 5, 4, 3, 2, 1]\n",
    "uczniowie = ['Jan', 'Anna', 'Piotr', 'Katarzyna', 'Michał', 'Ewa', 'Tomasz', 'Magdalena', 'Krzysztof', 'Agnieszka']\n",
    "\n",
    "uczniowie_pandas = pd.Series(index=uczniowie, data=oceny, dtype='int8')\n",
    "oceny_liczbowe = pd.Series(data=['c','b','a','a+','a++'], index=[1,2,3,4,5])\n",
    "\n",
    "seria_ciag_znakow = pd.Series(alfabet, dtype='string')\n",
    "pokemony_pandas_seria = pd.read_csv('D:\\Projekty vs\\Python\\Pliki do pracy\\course-files\\course-files\\pokemon.csv',usecols=[\"Name\",\"Type 2\"],index_col=\"Name\").squeeze()\n",
    "seria_z_slownika = pd.Series(list(slownik.keys()),dtype='string',index=list(slownik.values()))\n",
    "seria = pd.Series(cities,dtype='string')\n",
    "seria_liczby = pd.Series(liczby,dtype='int8')\n",
    "seria_losowe_liczby = pd.Series(losowe_liczby,dtype='int16')\n",
    "seria_waluty_Swiata = pd.Series(index=Waluty, data=Kraje, dtype='string')\n",
    "seria_alfabet = pd.Series(index=indeksy, data=wartosci, dtype='string')"
   ]
  },
  {
   "cell_type": "code",
   "execution_count": 3,
   "id": "69c38ba3",
   "metadata": {},
   "outputs": [
    {
     "name": "stdout",
     "output_type": "stream",
     "text": [
      "0     Warszawa\n",
      "1       Kraków\n",
      "2      Wrocław\n",
      "3       Poznań\n",
      "4       Gdańsk\n",
      "5         Łódź\n",
      "6     Szczecin\n",
      "7    Bydgoszcz\n",
      "8       Lublin\n",
      "9     Katowice\n",
      "dtype: string \n",
      "\n",
      "bmw                  seia3\n",
      "audi                    q7\n",
      "mercedes               c63\n",
      "bmw                     m3\n",
      "volkswagen             gti\n",
      "ford               mustang\n",
      "chevrolet           camaro\n",
      "porsche                911\n",
      "ferrari            ferrari\n",
      "lamborghini    lamborghini\n",
      "dtype: string\n",
      "bmw    seia3\n",
      "bmw       m3\n",
      "dtype: string\n",
      "True\n",
      "Index(['bmw', 'audi', 'mercedes', 'bmw', 'volkswagen', 'ford', 'chevrolet',\n",
      "       'porsche', 'ferrari', 'lamborghini'],\n",
      "      dtype='object')\n",
      "<StringArray>\n",
      "[      'seia3',          'q7',         'c63',          'm3',         'gti',\n",
      "     'mustang',      'camaro',         '911',     'ferrari', 'lamborghini']\n",
      "Length: 10, dtype: string\n"
     ]
    }
   ],
   "source": [
    "print(seria,\"\\n\")\n",
    "print(seria_z_slownika)\n",
    "print(seria_z_slownika[\"bmw\"])\n",
    "print(seria_z_slownika.is_unique)\n",
    "print(seria_z_slownika.index)\n",
    "print(seria_z_slownika.values)\n",
    "\n"
   ]
  },
  {
   "cell_type": "code",
   "execution_count": 4,
   "id": "bbe0a882",
   "metadata": {},
   "outputs": [
    {
     "name": "stdout",
     "output_type": "stream",
     "text": [
      "0       1\n",
      "1       2\n",
      "2       3\n",
      "3       4\n",
      "4       5\n",
      "     ... \n",
      "95     96\n",
      "96     97\n",
      "97     98\n",
      "98     99\n",
      "99    100\n",
      "Length: 100, dtype: int8\n",
      "Seria liczby używanie rozmiaru w senise lengh  100\n",
      "Seria liczby używanie rozmiaru w sensie rozmiar w bajtach  100\n",
      "Seria liczby rzeczywisty rozmiar  232\n",
      "Seria Pokemony używanie calej pamieci  199393\n",
      "Seria liczby czy jest ona monotoniczna rosnąca  True\n",
      "Seria liczby rodzaj danych przechowywanych  int8\n",
      "Seria pokemony rodzaj danych przechowywanych  #              int64\n",
      "Name          object\n",
      "Type 1        object\n",
      "Type 2        object\n",
      "Total          int64\n",
      "HP             int64\n",
      "Attack         int64\n",
      "Defense        int64\n",
      "Sp. Atk        int64\n",
      "Sp. Def        int64\n",
      "Speed          int64\n",
      "Generation     int64\n",
      "Legendary       bool\n",
      "dtype: object\n"
     ]
    }
   ],
   "source": [
    "print(seria_liczby)\n",
    "print(\"Seria liczby używanie rozmiaru w senise lengh \",seria_liczby.size)\n",
    "print(\"Seria liczby używanie rozmiaru w sensie rozmiar w bajtach \",seria_liczby.nbytes) \n",
    "print(\"Seria liczby rzeczywisty rozmiar \",seria_liczby.memory_usage())\n",
    "print(\"Seria Pokemony używanie calej pamieci \",pokemony_pandas.memory_usage(deep=True).sum())\n",
    "print(\"Seria liczby czy jest ona monotoniczna rosnąca \",seria_liczby.is_monotonic_increasing)\n",
    "print(\"Seria liczby rodzaj danych przechowywanych \",seria_liczby.dtype)\n",
    "print(\"Seria pokemony rodzaj danych przechowywanych \",pokemony_pandas.dtypes)"
   ]
  },
  {
   "cell_type": "code",
   "execution_count": 5,
   "id": "6c62e796",
   "metadata": {},
   "outputs": [
    {
     "name": "stdout",
     "output_type": "stream",
     "text": [
      "Pokemony ksztalt (800, 13)\n",
      "Seria liczby ksztalt (100,)\n",
      "Pokemaony axist [RangeIndex(start=0, stop=800, step=1), Index(['#', 'Name', 'Type 1', 'Type 2', 'Total', 'HP', 'Attack', 'Defense',\n",
      "       'Sp. Atk', 'Sp. Def', 'Speed', 'Generation', 'Legendary'],\n",
      "      dtype='object')]\n",
      "Seria liczby axist [RangeIndex(start=0, stop=100, step=1)]\n"
     ]
    }
   ],
   "source": [
    "print(\"Pokemony ksztalt\",pokemony_pandas.shape)\n",
    "print(\"Seria liczby ksztalt\",seria_liczby.shape)\n",
    "print(\"Pokemaony axist\",pokemony_pandas.axes)\n",
    "print(\"Seria liczby axist\",seria_liczby.axes)\n"
   ]
  },
  {
   "cell_type": "code",
   "execution_count": 6,
   "id": "6f328daf",
   "metadata": {},
   "outputs": [
    {
     "name": "stdout",
     "output_type": "stream",
     "text": [
      "Seria losowe liczby 0     9826\n",
      "1     2080\n",
      "2     9273\n",
      "3     7652\n",
      "4      691\n",
      "      ... \n",
      "95    4577\n",
      "96    3022\n",
      "97    7557\n",
      "98    4831\n",
      "99    6978\n",
      "Length: 100, dtype: int16\n",
      "Seria losowe liczby suma 520827\n",
      "Seria losowe liczby min 242\n",
      "Seria losowe liczby max 9993\n",
      "Seria losowe liczby mean 5208.27\n",
      "Seria losowe liczby rozmiar mozna okreslic za pomoca atrybutu size oraz cout()  100  =  100\n",
      "Seria konwersja do listy\n",
      "[9826, 2080, 9273, 7652, 691, 9528, 2388, 2705, 6642, 1926, 9104, 5439, 5166, 2047, 5047, 8803, 242, 9527, 9637, 1676, 4776, 6843, 806, 9993, 1227, 8417, 6571, 6673, 9198, 8147, 6151, 6589, 7944, 1587, 292, 1959, 9534, 3913, 2384, 7898, 8247, 9630, 5267, 4045, 346, 5489, 3172, 1362, 9934, 6739, 6766, 908, 4661, 8212, 1762, 2110, 8003, 7237, 1805, 8017, 1805, 9043, 6338, 1361, 3330, 327, 6905, 4824, 5749, 1820, 3316, 5918, 4689, 7522, 405, 8076, 1375, 7894, 3090, 7317, 917, 1860, 7315, 2210, 7909, 9658, 7552, 3617, 8359, 9957, 2145, 5231, 5005, 2211, 4799, 4577, 3022, 7557, 4831, 6978]\n"
     ]
    }
   ],
   "source": [
    "print(\"Seria losowe liczby\",seria_losowe_liczby)\n",
    "print(\"Seria losowe liczby suma\",seria_losowe_liczby.sum())\n",
    "print(\"Seria losowe liczby min\",seria_losowe_liczby.min())\n",
    "print(\"Seria losowe liczby max\",seria_losowe_liczby.max())\n",
    "print(\"Seria losowe liczby mean\",seria_losowe_liczby.mean())\n",
    "print(\"Seria losowe liczby rozmiar mozna okreslic za pomoca atrybutu size oraz cout() \",seria_losowe_liczby.size,\" = \",\n",
    "      seria_losowe_liczby.count())\n",
    "print(\"Seria konwersja do listy\")\n",
    "lista_losowe_liczby = seria_losowe_liczby.tolist()\n",
    "print(lista_losowe_liczby)"
   ]
  },
  {
   "cell_type": "code",
   "execution_count": 7,
   "id": "c9458026",
   "metadata": {},
   "outputs": [
    {
     "name": "stdout",
     "output_type": "stream",
     "text": [
      "Seria waluty swiata \n",
      " PLN             Polska\n",
      "EU              Europa\n",
      "USD                USA\n",
      "GPD    Wielka Brytania\n",
      "RUB              Rosja\n",
      "dtype: string\n"
     ]
    }
   ],
   "source": [
    "print(\"Seria waluty swiata \\n\", seria_waluty_Swiata)"
   ]
  },
  {
   "cell_type": "code",
   "execution_count": 8,
   "id": "b354bcb4",
   "metadata": {},
   "outputs": [
    {
     "name": "stdout",
     "output_type": "stream",
     "text": [
      "Pokazanie wynikow seri liczby tylko wiekszych od 90 dowma sposobami \n",
      " 0       NaN\n",
      "1       NaN\n",
      "2       NaN\n",
      "3       NaN\n",
      "4       NaN\n",
      "      ...  \n",
      "95     96.0\n",
      "96     97.0\n",
      "97     98.0\n",
      "98     99.0\n",
      "99    100.0\n",
      "Length: 100, dtype: float64\n",
      "\n",
      " 90     91\n",
      "91     92\n",
      "92     93\n",
      "93     94\n",
      "94     95\n",
      "95     96\n",
      "96     97\n",
      "97     98\n",
      "98     99\n",
      "99    100\n",
      "dtype: int8 \n",
      "Warto zworcic uwage na to ,iż użycie atrybutu where zwaraca wszystko ,\n",
      " nawet nie zgodne wyniki jako NaN a zwykla lista tylko te ,które nam pasują\n",
      "Seria liczby bez NaN \n",
      " 90     91.0\n",
      "91     92.0\n",
      "92     93.0\n",
      "93     94.0\n",
      "94     95.0\n",
      "95     96.0\n",
      "96     97.0\n",
      "97     98.0\n",
      "98     99.0\n",
      "99    100.0\n",
      "dtype: float64\n",
      "\n",
      "Możemy też wyciągnąć wartości po indeksie \n",
      " 0    1\n",
      "1    2\n",
      "2    3\n",
      "3    4\n",
      "4    5\n",
      "5    6\n",
      "dtype: int8\n",
      "Filtorwanie wartosci mniejszych od 10 i wiekszych od 15\n",
      "Series([], dtype: float64)\n"
     ]
    }
   ],
   "source": [
    "print(\"Pokazanie wynikow seri liczby tylko wiekszych od 90 dowma sposobami \\n\",seria_liczby.where(seria_liczby > 90 )) # filtruje serie i zwraca tylko te wartosci ktore sa wieksze niz 90\n",
    "print(\"\\n\",seria_liczby[seria_liczby > 90],\"\\nWarto zworcic uwage na to ,iż użycie atrybutu where zwaraca wszystko ,\\n nawet nie zgodne wyniki jako NaN a zwykla lista tylko te ,które nam pasują\") # filtruje serie i zwraca tylko te wartosci ktore sa wieksze niz 90\n",
    "# Jeśli chcemy pozbyć się NaN to możemy użyć metody dropna()\n",
    "print(\"Seria liczby bez NaN \\n\",seria_liczby.where(seria_liczby > 90 ).dropna()) # filtruje serie i zwraca tylko te wartosci ktore sa wieksze niz 90 i usuwa NaN\n",
    "print()\n",
    "print(\"Możemy też wyciągnąć wartości po indeksie \\n\", seria_liczby.filter(items=[0, 1, 2, 3, 4, 5])) # filtruje serie i zwraca tylko te wartosci ktore sa na indeksach 0,1,2,3,4,5\n",
    "\n",
    "print(\"Filtorwanie wartosci mniejszych od 10 i wiekszych od 15\")\n",
    "mniejsze_od_10 = seria_liczby < 10\n",
    "wieksze_od_15 = seria_liczby > 15\n",
    "print(seria_liczby.where(mniejsze_od_10 & wieksze_od_15).dropna()) # filtruje serie i zwraca tylko te wartosci ktore sa mniejsze niz 10 lub wieksze niz 15oo"
   ]
  },
  {
   "cell_type": "code",
   "execution_count": 9,
   "id": "43f58ce9",
   "metadata": {},
   "outputs": [
    {
     "name": "stdout",
     "output_type": "stream",
     "text": [
      "Pokemony jako seria \n",
      " Name\n",
      "Bulbasaur                Poison\n",
      "Ivysaur                  Poison\n",
      "Venusaur                 Poison\n",
      "VenusaurMega Venusaur    Poison\n",
      "Charmander                  NaN\n",
      "Name: Type 2, dtype: object\n",
      "Pokemony seria ogonki \n",
      " Name\n",
      "Diancie                Fairy\n",
      "DiancieMega Diancie    Fairy\n",
      "HoopaHoopa Confined    Ghost\n",
      "HoopaHoopa Unbound      Dark\n",
      "Volcanion              Water\n",
      "Name: Type 2, dtype: object\n",
      "Posortowanie serii pokemony \n",
      " Name\n",
      "Armaldo     Bug\n",
      "Anorith     Bug\n",
      "Skorupi     Bug\n",
      "Shiftry    Dark\n",
      "Drapion    Dark\n",
      "Name: Type 2, dtype: object\n",
      "Sprawdzenie czy w serii pokemony znajduje sie Pikachu \n",
      " Series([], Name: Type 2, dtype: object)\n",
      "Type 2\n",
      "Flying      97\n",
      "Ground      35\n",
      "Poison      34\n",
      "Psychic     33\n",
      "Fighting    26\n",
      "Name: count, dtype: int64\n"
     ]
    }
   ],
   "source": [
    "print(\"Pokemony jako seria \\n\", pokemony_pandas_seria.head(5))\n",
    "print(\"Pokemony seria ogonki \\n\", pokemony_pandas_seria.tail(5)) # pokazuje ostatnie 10 wierszy serii\n",
    "print(\"Posortowanie serii pokemony \\n\", pokemony_pandas_seria.sort_values().head(5)) # sortuje serie\n",
    "print(\"Sprawdzenie czy w serii pokemony znajduje sie Pikachu \\n\",pokemony_pandas_seria[pokemony_pandas_seria.isin(['Pikachu'])]) # sprawdza czy w serii znajduje sie Pikachu\n",
    "print(pokemony_pandas_seria.value_counts().head())\n"
   ]
  },
  {
   "cell_type": "code",
   "execution_count": 10,
   "id": "37d49b35",
   "metadata": {},
   "outputs": [
    {
     "name": "stdout",
     "output_type": "stream",
     "text": [
      "Australia\n",
      "Australia\n",
      "Nie ma takiego klucza\n",
      "x          xoxo\n",
      "x    no to tyle\n",
      "dtype: string\n",
      "Brazylia\n",
      "Test  x          xoxo\n",
      "x    no to tyle\n",
      "dtype: string\n",
      "Test1  Brazylia\n",
      "x          xoxo\n",
      "x    no to tyle\n",
      "dtype: string\n"
     ]
    }
   ],
   "source": [
    "# UWAGA! w teori at i iat powinny byc tylko dla 1 elementu , a loc i iloc dla wielu elementów, ale w praktyce at i iat działają też dla wielu elementów\n",
    "# To może jest błąd\n",
    "\n",
    "print(seria_alfabet[\"a\"])\n",
    "#print(seria_alfabet[1]) Błąd ponieważ seria_alfabet nie ma indeksu 1 tylko a,b,c,d,e\n",
    "print(seria_alfabet.get(\"a\")) # zwraca wartosc dla klucza a\n",
    "print(seria_alfabet.get(\"f\", \"Nie ma takiego klucza\")) # zwraca wartosc dla klucza f lub komunikat o braku klucza , po prostu nie wyrzuca błędu\n",
    "print(seria_alfabet.get(\"x\"))\n",
    "\n",
    "print(seria_alfabet.at[\"b\"])\n",
    "print(\"Test \",seria_alfabet.at[\"x\"]) # zwraca wartosc dla klucza x\n",
    "#print(seria_alfabet.at[1])  Błąd ponieważ seria_alfabet nie ma indeksu 1 tylko a,b,c,d,e\n",
    "#print(seria_alfabet.at[\"z\"])  Błąd ponieważ seria_alfabet nie ma indeksu z\n",
    "print(\"Test1 \",seria_alfabet.iat[1]) # zwraca wartosc dla indeksu 1 Ogolnie at i iat są szybsze niż get, ale nie sprawdzają czy klucz istnieje, więc mogą wyrzucić błąd a po zatym \n",
    "#iat wyrzuca błąd jeśli indeks nie istnieje ablo jest ich kilka\n",
    "\n",
    "print(seria_alfabet.loc[\"x\"])\n",
    "\n",
    "\n"
   ]
  },
  {
   "cell_type": "code",
   "execution_count": 11,
   "id": "2ada2601",
   "metadata": {},
   "outputs": [
    {
     "name": "stdout",
     "output_type": "stream",
     "text": [
      "Seria ciag znakow \n",
      " 0     a\n",
      "1     b\n",
      "2     c\n",
      "3     d\n",
      "4     e\n",
      "5     f\n",
      "6     g\n",
      "7     h\n",
      "8     i\n",
      "9     j\n",
      "10    k\n",
      "11    l\n",
      "12    m\n",
      "13    n\n",
      "14    o\n",
      "15    p\n",
      "16    q\n",
      "17    r\n",
      "18    s\n",
      "19    t\n",
      "20    u\n",
      "21    v\n",
      "22    w\n",
      "23    x\n",
      "24    y\n",
      "25    z\n",
      "dtype: string\n",
      "Seria ze zmienionymi indeksami a bardziej dodany 1 dodoatkowy \n",
      " 0        a\n",
      "1        b\n",
      "2        c\n",
      "3        d\n",
      "4        e\n",
      "5        f\n",
      "6        g\n",
      "7        h\n",
      "8        i\n",
      "9        j\n",
      "10       k\n",
      "11       l\n",
      "12       m\n",
      "13       n\n",
      "14       o\n",
      "15       p\n",
      "16       q\n",
      "17       r\n",
      "18       s\n",
      "19       t\n",
      "20       u\n",
      "21       v\n",
      "22       w\n",
      "23       x\n",
      "24       y\n",
      "25       z\n",
      "26    <NA>\n",
      "27    <NA>\n",
      "dtype: string\n",
      "Wyrazy wspolne w serii ciagow znakow i malej serii \n",
      " ['a' 'b' 'c']\n"
     ]
    }
   ],
   "source": [
    "mala_seria = pd.Series([\"a\",'b','c']) # zwraca pierwsze 5 elementów serii\n",
    "seria_ciag_znakow\n",
    "print(\"Seria ciag znakow \\n\", seria_ciag_znakow)\n",
    "print(\"Seria ze zmienionymi indeksami a bardziej dodany 1 dodoatkowy \\n\",seria_ciag_znakow.reindex(np.arange(0, 28))) # zmienia indeksy na 1,2,3,...,27\n",
    "# dodanie dodkowych indeksow powoduje powstanie wartosci NaN\n",
    "print(\"Wyrazy wspolne w serii ciagow znakow i malej serii \\n\", np.intersect1d(seria_ciag_znakow,mala_seria)) # zwraca wartosci wspolne w obu seriach\n"
   ]
  },
  {
   "cell_type": "code",
   "execution_count": 12,
   "id": "c38013a3",
   "metadata": {},
   "outputs": [
    {
     "name": "stdout",
     "output_type": "stream",
     "text": [
      "Seria uczniowie \n",
      " Jan          5\n",
      "Anna         4\n",
      "Piotr        3\n",
      "Katarzyna    2\n",
      "Michał       1\n",
      "Ewa          5\n",
      "Tomasz       4\n",
      "Magdalena    3\n",
      "Krzysztof    2\n",
      "Agnieszka    1\n",
      "dtype: int8\n",
      "Seria oceny \n",
      " 1      c\n",
      "2      b\n",
      "3      a\n",
      "4     a+\n",
      "5    a++\n",
      "dtype: object\n",
      "Seria po podstawieniu indeksow na oceny \n",
      " Jan          a++\n",
      "Anna          a+\n",
      "Piotr          a\n",
      "Katarzyna      b\n",
      "Michał         c\n",
      "Ewa          a++\n",
      "Tomasz        a+\n",
      "Magdalena      a\n",
      "Krzysztof      b\n",
      "Agnieszka      c\n",
      "dtype: object\n"
     ]
    }
   ],
   "source": [
    "\n",
    "print(\"Seria uczniowie \\n\", uczniowie_pandas)\n",
    "print(\"Seria oceny \\n\", oceny_liczbowe)\n",
    "print(\"Seria po podstawieniu indeksow na oceny \\n\", uczniowie_pandas.map(oceny_liczbowe)) # podstawia indeksy z serii oceny_liczbowe do serii uczniowie_pandas\n",
    "# Zasada dzialania map jest taka, że bierze wartość z lewej strony i podstawia ją do prawej strony\n",
    "#Metoda map pozwala połączyć dane zapisane w dwóch seriach A i B w taki sposób że wynikiem jest seria, której indeks pochodzi z serii A, a wartości z serii B.\n"
   ]
  }
 ],
 "metadata": {
  "kernelspec": {
   "display_name": "ml",
   "language": "python",
   "name": "python3"
  },
  "language_info": {
   "codemirror_mode": {
    "name": "ipython",
    "version": 3
   },
   "file_extension": ".py",
   "mimetype": "text/x-python",
   "name": "python",
   "nbconvert_exporter": "python",
   "pygments_lexer": "ipython3",
   "version": "3.11.13"
  }
 },
 "nbformat": 4,
 "nbformat_minor": 5
}
