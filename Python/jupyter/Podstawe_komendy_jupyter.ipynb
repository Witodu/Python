{
 "cells": [
  {
   "cell_type": "markdown",
   "id": "59976f24",
   "metadata": {},
   "source": [
    "ESC - wejscie do trybu dev <br>\n",
    "B - 1 pusta linijka pod bieżącą ramką  &emsp; &emsp;  A - -||- nad <br>\n",
    "DD - usun bieżącą linijke  <br> \n",
    "M - markdown # czyli taki tekst po prostu  &emsp;&emsp;  Y - znowu kod <br>\n",
    "Shif + enter - wykonuje bieżącą linijke <br>\n",
    "X - wytnij  &emsp;&emsp;   V - wklej <br>\n",
    "SHIFT + M - scal komorki <br>\n",
    "CTRL SHIFT + \"-\"  - rozdziel komórki <br>\n",
    "O - output  &emsp;&emsp;   L - daj linijkom numer <br>\n",
    "SHIFT + L - daj wszystkim <br>\n",
    "CTRL + SHIFT + F - Menu opcji <br>"
   ]
  },
  {
   "cell_type": "code",
   "execution_count": 1,
   "id": "02abc0ad",
   "metadata": {},
   "outputs": [],
   "source": [
    "import numpy as np\n",
    "import matplotlib.pyplot as plt\n",
    "import pandas as pd\n",
    "import math as math\n",
    "%matplotlib inline \n",
    "# To sprawia ze wykresy sa w notebooku"
   ]
  },
  {
   "cell_type": "code",
   "execution_count": 2,
   "id": "89f44161",
   "metadata": {},
   "outputs": [],
   "source": [
    "pokemony_pandas = pd.read_csv('D:\\Projekty vs\\Python\\Pliki do pracy\\course-files\\course-files\\pokemon.csv')\n",
    "cities = ['Warszawa', 'Kraków', 'Wrocław', 'Poznań', 'Gdańsk', 'Łódź', 'Szczecin', 'Bydgoszcz', 'Lublin', 'Katowice']\n",
    "slownik = {'seia3': \"bmw\", \"q7\": \"audi\", \"c63\": \"mercedes\", \"m3\": \"bmw\", \"gti\": \"volkswagen\", \"mustang\": \"ford\", \"camaro\": \"chevrolet\", \"911\": \"porsche\", \"ferrari\": \"ferrari\", \"lamborghini\": \"lamborghini\"}\n",
    "liczby = list(range(1,11))"
   ]
  },
  {
   "cell_type": "code",
   "execution_count": 8,
   "id": "69c38ba3",
   "metadata": {},
   "outputs": [
    {
     "name": "stdout",
     "output_type": "stream",
     "text": [
      "0     Warszawa\n",
      "1       Kraków\n",
      "2      Wrocław\n",
      "3       Poznań\n",
      "4       Gdańsk\n",
      "5         Łódź\n",
      "6     Szczecin\n",
      "7    Bydgoszcz\n",
      "8       Lublin\n",
      "9     Katowice\n",
      "dtype: string \n",
      "\n",
      "bmw                  seia3\n",
      "audi                    q7\n",
      "mercedes               c63\n",
      "bmw                     m3\n",
      "volkswagen             gti\n",
      "ford               mustang\n",
      "chevrolet           camaro\n",
      "porsche                911\n",
      "ferrari            ferrari\n",
      "lamborghini    lamborghini\n",
      "dtype: string\n",
      "bmw    seia3\n",
      "bmw       m3\n",
      "dtype: string\n",
      "True\n",
      "Index(['bmw', 'audi', 'mercedes', 'bmw', 'volkswagen', 'ford', 'chevrolet',\n",
      "       'porsche', 'ferrari', 'lamborghini'],\n",
      "      dtype='object')\n",
      "<StringArray>\n",
      "[      'seia3',          'q7',         'c63',          'm3',         'gti',\n",
      "     'mustang',      'camaro',         '911',     'ferrari', 'lamborghini']\n",
      "Length: 10, dtype: string\n"
     ]
    }
   ],
   "source": [
    "seria_z_slownika = pd.Series(list(slownik.keys()),dtype='string',index=list(slownik.values()))\n",
    "seria = pd.Series(cities,dtype='string')\n",
    "print(seria,\"\\n\")\n",
    "print(seria_z_slownika)\n",
    "print(seria_z_slownika[\"bmw\"])\n",
    "print(seria_z_slownika.is_unique)\n",
    "print(seria_z_slownika.index)\n",
    "print(seria_z_slownika.values)\n",
    "\n"
   ]
  },
  {
   "cell_type": "code",
   "execution_count": 11,
   "id": "bbe0a882",
   "metadata": {},
   "outputs": [
    {
     "name": "stdout",
     "output_type": "stream",
     "text": [
      "0     1\n",
      "1     2\n",
      "2     3\n",
      "3     4\n",
      "4     5\n",
      "5     6\n",
      "6     7\n",
      "7     8\n",
      "8     9\n",
      "9    10\n",
      "dtype: int8\n",
      "Seria liczby używanie rozmiaru w senise lengh  10\n",
      "Seria liczby używanie rozmiaru w sensie rozmiar w bajtach  10\n",
      "Seria liczby rzeczywisty rozmiar  142\n",
      "Seria Pokemony używanie calej pamieci  199393\n",
      "Seria liczby czy jest ona monotoniczna rosnąca  True\n",
      "Seria liczby rodzaj danych przechowywanych  int8\n",
      "Seria pokemony rodzaj danych przechowywanych  #              int64\n",
      "Name          object\n",
      "Type 1        object\n",
      "Type 2        object\n",
      "Total          int64\n",
      "HP             int64\n",
      "Attack         int64\n",
      "Defense        int64\n",
      "Sp. Atk        int64\n",
      "Sp. Def        int64\n",
      "Speed          int64\n",
      "Generation     int64\n",
      "Legendary       bool\n",
      "dtype: object\n"
     ]
    }
   ],
   "source": [
    "seria_liczby = pd.Series(liczby,dtype='int8')\n",
    "print(seria_liczby)\n",
    "print(\"Seria liczby używanie rozmiaru w senise lengh \",seria_liczby.size)\n",
    "print(\"Seria liczby używanie rozmiaru w sensie rozmiar w bajtach \",seria_liczby.nbytes) \n",
    "print(\"Seria liczby rzeczywisty rozmiar \",seria_liczby.memory_usage())\n",
    "print(\"Seria Pokemony używanie calej pamieci \",pokemony_pandas.memory_usage(deep=True).sum())\n",
    "print(\"Seria liczby czy jest ona monotoniczna rosnąca \",seria_liczby.is_monotonic_increasing)\n",
    "print(\"Seria liczby rodzaj danych przechowywanych \",seria_liczby.dtype)\n",
    "print(\"Seria pokemony rodzaj danych przechowywanych \",pokemony_pandas.dtypes)"
   ]
  },
  {
   "cell_type": "code",
   "execution_count": null,
   "id": "6c62e796",
   "metadata": {},
   "outputs": [],
   "source": []
  }
 ],
 "metadata": {
  "kernelspec": {
   "display_name": "ml",
   "language": "python",
   "name": "python3"
  },
  "language_info": {
   "codemirror_mode": {
    "name": "ipython",
    "version": 3
   },
   "file_extension": ".py",
   "mimetype": "text/x-python",
   "name": "python",
   "nbconvert_exporter": "python",
   "pygments_lexer": "ipython3",
   "version": "3.11.13"
  }
 },
 "nbformat": 4,
 "nbformat_minor": 5
}
