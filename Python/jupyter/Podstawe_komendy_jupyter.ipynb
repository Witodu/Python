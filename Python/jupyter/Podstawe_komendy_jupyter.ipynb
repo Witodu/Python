{
 "cells": [
  {
   "cell_type": "markdown",
   "id": "59976f24",
   "metadata": {},
   "source": [
    "ESC - wejscie do trybu dev <div>\n",
    "B - 1 pusta linijka pod bieżącą ramką <div>\n",
    "A - -||- nad <div>\n",
    "DD - usun bieżącą linijke  <div>\n",
    "M - markdown # czyli taki tekst po prostu <div>\n",
    "Y - znowu kod <div>\n",
    "Shif + enter - wykonuje bieżącą linijke <div>\n",
    "X - wytnij <div>\n",
    "V - wklej <div>\n",
    "SHIFT + M - scal komorki <div>\n",
    "CTRL SHIFT + \"-\"  - rozdziel komórki <div>\n",
    "O - output <div>\n",
    "L - daj linijkom numer <div>\n",
    "SHIFT + L - daj wszystkim <div>\n",
    "CTRL + SHIFT + F - Menu opcji <div>"
   ]
  },
  {
   "cell_type": "code",
   "execution_count": null,
   "id": "02abc0ad",
   "metadata": {},
   "outputs": [],
   "source": [
    "import numpy as np\n",
    "import matplotlib.pyplot as plt\n",
    "import pandas as pd\n",
    "import math as math\n",
    "%matplotlib inline \n",
    "# To sprawia ze wykresy sa w notebooku"
   ]
  },
  {
   "cell_type": "code",
   "execution_count": null,
   "id": "89f44161",
   "metadata": {},
   "outputs": [],
   "source": [
    "pd.read_csv('D:\\Projekty vs\\Python\\Pliki do pracy\\course-files\\course-files\\pokemon.csv')\n",
    "cities = ['Warszawa', 'Kraków', 'Wrocław', 'Poznań', 'Gdańsk', 'Łódź', 'Szczecin', 'Bydgoszcz', 'Lublin', 'Katowice']\n",
    "slownik = {'seia3': \"bmw\", \"q7\": \"audi\", \"c63\": \"mercedes\", \"m3\": \"bmw\", \"gti\": \"volkswagen\", \"mustang\": \"ford\", \"camaro\": \"chevrolet\", \"911\": \"porsche\", \"ferrari\": \"ferrari\", \"lamborghini\": \"lamborghini\"}\n"
   ]
  },
  {
   "cell_type": "code",
   "execution_count": null,
   "id": "69c38ba3",
   "metadata": {},
   "outputs": [],
   "source": [
    "seria = pd.Series(cities,dtype='string')\n",
    "seria_z_slownika = pd.Series(list(slownik.keys()),dtype='string',index=list(slownik.values()))\n",
    "print(seria,\"\\n\")\n",
    "print(seria_z_slownika)\n",
    "seria_z_slownika[\"bmw\"]"
   ]
  },
  {
   "cell_type": "code",
   "execution_count": null,
   "id": "bbe0a882",
   "metadata": {},
   "outputs": [],
   "source": []
  }
 ],
 "metadata": {
  "kernelspec": {
   "display_name": "ml",
   "language": "python",
   "name": "python3"
  },
  "language_info": {
   "codemirror_mode": {
    "name": "ipython",
    "version": 3
   },
   "file_extension": ".py",
   "mimetype": "text/x-python",
   "name": "python",
   "nbconvert_exporter": "python",
   "pygments_lexer": "ipython3",
   "version": "3.11.13"
  }
 },
 "nbformat": 4,
 "nbformat_minor": 5
}
