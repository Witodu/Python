{
 "cells": [
  {
   "cell_type": "code",
   "execution_count": 1,
   "id": "2f0335a8",
   "metadata": {},
   "outputs": [],
   "source": [
    "import pandas as pd\n",
    "import numpy as np\n",
    "import matplotlib.pyplot as plt\n",
    "import math as math\n",
    "\n"
   ]
  },
  {
   "cell_type": "code",
   "execution_count": 21,
   "id": "3af09d1d",
   "metadata": {},
   "outputs": [],
   "source": [
    "mc = pd.read_csv(\"..\\Pliki do pracy\\course-files\\course-files\\Mcdonalds.csv\")\n",
    "mc_filtr = pd.read_csv(\"..\\Pliki do pracy\\course-files\\course-files\\Mcdonalds.csv\",usecols=['Item','Serving Size','Calories','Calories from Fat','TotalFat'],index_col='Item')"
   ]
  },
  {
   "cell_type": "code",
   "execution_count": 22,
   "id": "604fe793",
   "metadata": {},
   "outputs": [
    {
     "data": {
      "text/html": [
       "<div>\n",
       "<style scoped>\n",
       "    .dataframe tbody tr th:only-of-type {\n",
       "        vertical-align: middle;\n",
       "    }\n",
       "\n",
       "    .dataframe tbody tr th {\n",
       "        vertical-align: top;\n",
       "    }\n",
       "\n",
       "    .dataframe thead th {\n",
       "        text-align: right;\n",
       "    }\n",
       "</style>\n",
       "<table border=\"1\" class=\"dataframe\">\n",
       "  <thead>\n",
       "    <tr style=\"text-align: right;\">\n",
       "      <th></th>\n",
       "      <th>Serving Size</th>\n",
       "      <th>Calories</th>\n",
       "      <th>Calories from Fat</th>\n",
       "      <th>TotalFat</th>\n",
       "    </tr>\n",
       "    <tr>\n",
       "      <th>Item</th>\n",
       "      <th></th>\n",
       "      <th></th>\n",
       "      <th></th>\n",
       "      <th></th>\n",
       "    </tr>\n",
       "  </thead>\n",
       "  <tbody>\n",
       "    <tr>\n",
       "      <th>McFlurry with Reese's Peanut Butter Cups (Snack)</th>\n",
       "      <td>7.1 oz (202 g)</td>\n",
       "      <td>410</td>\n",
       "      <td>150</td>\n",
       "      <td>16.0</td>\n",
       "    </tr>\n",
       "  </tbody>\n",
       "</table>\n",
       "</div>"
      ],
      "text/plain": [
       "                                                    Serving Size  Calories  \\\n",
       "Item                                                                         \n",
       "McFlurry with Reese's Peanut Butter Cups (Snack)  7.1 oz (202 g)       410   \n",
       "\n",
       "                                                  Calories from Fat  TotalFat  \n",
       "Item                                                                           \n",
       "McFlurry with Reese's Peanut Butter Cups (Snack)                150      16.0  "
      ]
     },
     "execution_count": 22,
     "metadata": {},
     "output_type": "execute_result"
    }
   ],
   "source": [
    "mc_filtr.tail(1)"
   ]
  },
  {
   "cell_type": "code",
   "execution_count": null,
   "id": "9ff9b423",
   "metadata": {},
   "outputs": [],
   "source": []
  }
 ],
 "metadata": {
  "kernelspec": {
   "display_name": "ml",
   "language": "python",
   "name": "python3"
  },
  "language_info": {
   "codemirror_mode": {
    "name": "ipython",
    "version": 3
   },
   "file_extension": ".py",
   "mimetype": "text/x-python",
   "name": "python",
   "nbconvert_exporter": "python",
   "pygments_lexer": "ipython3",
   "version": "3.11.13"
  }
 },
 "nbformat": 4,
 "nbformat_minor": 5
}
